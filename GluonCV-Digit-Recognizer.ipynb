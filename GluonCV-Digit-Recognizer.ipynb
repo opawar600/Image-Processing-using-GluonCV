{
 "cells": [
  {
   "cell_type": "markdown",
   "metadata": {},
   "source": [
    "# Digit Recognition using Convolutional Neural Network\n",
    "In this project, we will write a full end-to-end training process using gluon and MXNet.We will train the LeNet-5 classifier network on the MNIST dataset. The steps that we will follow are to prepare the dataset, train the network, and evaluate it's performance on the held out dataset. So lets get started!\n"
   ]
  },
  {
   "cell_type": "markdown",
   "metadata": {},
   "source": [
    "* Lets load all the essential Libraries\n",
    "We will be working with GluonCV for image recognition. It is a part of Apache MXNet ecosystem, a flexible and efficient library for deep learning. \n",
    "* *GluonCV* provides implementations of state-of-the-art deep learning algorithms in computer vision. It aims to help engineers, researchers, and students quickly prototype products, validate new ideas and learn computer vision."
   ]
  },
  {
   "cell_type": "code",
   "execution_count": 1,
   "metadata": {},
   "outputs": [],
   "source": [
    "# Loading all Libraries and essential Functions\n",
    "from mxnet import gluon, metric, autograd, init, nd\n",
    "from mxnet.gluon.data.vision import datasets, transforms"
   ]
  },
  {
   "cell_type": "markdown",
   "metadata": {},
   "source": [
    "## Get the Data\n",
    "Once we have imported the functionalites, its time to get the data. MXNet has the MNIST data in *`gluon.data.vision.datasets`*. The function defined below returns training and validation datasets."
   ]
  },
  {
   "cell_type": "code",
   "execution_count": 2,
   "metadata": {},
   "outputs": [],
   "source": [
    "# Load MNIST Datasets\n",
    "def get_mnist_data():\n",
    "    train_data = gluon.data.vision.datasets.MNIST(train=True)\n",
    "    #train_data._label[train_data._label > 0] = 1\n",
    "\n",
    "    val_data = gluon.data.vision.datasets.MNIST(train=False)\n",
    "    #val_data._label[val_data._label > 0] = 1\n",
    "    return train_data, val_data"
   ]
  },
  {
   "cell_type": "code",
   "execution_count": 3,
   "metadata": {},
   "outputs": [],
   "source": [
    "train_data, val_data = get_mnist_data()"
   ]
  },
  {
   "cell_type": "markdown",
   "metadata": {},
   "source": [
    "## Take a look\n",
    "Now that the dataset is loaded, lets take a look at the sample from training set. We can visualize a sample image with its label using Matplotlib. To view a different sample, just change the index number at the bottom of the below defined function."
   ]
  },
  {
   "cell_type": "code",
   "execution_count": 14,
   "metadata": {},
   "outputs": [
    {
     "name": "stdout",
     "output_type": "stream",
     "text": [
      "Data type: <class 'numpy.uint8'>\n",
      "Label: 9\n"
     ]
    },
    {
     "data": {
      "image/png": "[encoded data removed]",
      "text/plain": [
       "<Figure size 432x288 with 1 Axes>"
      ]
     },
     "metadata": {
      "needs_background": "light"
     },
     "output_type": "display_data"
    }
   ],
   "source": [
    "# See samples from the dataset\n",
    "from matplotlib.pylab import imshow\n",
    "\n",
    "def view_sample(sample_idx):\n",
    "    sample = train_data[sample_idx]\n",
    "    data = sample[0]\n",
    "    label = sample[1]\n",
    "    \n",
    "    imshow(data[:,:,0].asnumpy(), cmap='gray')\n",
    "    print(\"Data type: {}\".format(data.dtype))\n",
    "    print(\"Label: {}\".format(label))\n",
    "\n",
    "#Enter the sample number to view from training dataset    \n",
    "view_sample(350)"
   ]
  },
  {
   "cell_type": "code",
   "execution_count": 15,
   "metadata": {},
   "outputs": [
    {
     "name": "stdout",
     "output_type": "stream",
     "text": [
      "Data type: <class 'numpy.uint8'>\n",
      "Label: 7\n"
     ]
    },
    {
     "data": {
      "image/png": "[encoded data removed]",
      "text/plain": [
       "<Figure size 432x288 with 1 Axes>"
      ]
     },
     "metadata": {
      "needs_background": "light"
     },
     "output_type": "display_data"
    }
   ],
   "source": [
    "view_sample(101)"
   ]
  },
  {
   "cell_type": "markdown",
   "metadata": {},
   "source": [
    "## Data Transformation\n",
    "Data preprocessing and transformation is a common step performed in machine learning to make training robust. Here we perform two types of transformation.\n",
    "* `ToTensor()`: Converts an image NDArray of shape (H x W x C) in the range [0, 255] to a float32 tensor NDArray of shape (C x H x W) in the range [0, 1].\n",
    "\n",
    "* `Normalize()`: Normalize an tensor of shape (C x H x W) or (N x C x H x W) with mean and standard deviation.\n",
    "\n",
    "We have defined the tranformation function below. We will use this function in data loading step"
   ]
  },
  {
   "cell_type": "code",
   "execution_count": 5,
   "metadata": {},
   "outputs": [],
   "source": [
    "#Define a transformation function\n",
    "transform_fn = transforms.Compose([transforms.ToTensor(),transforms.Normalize(0.13,0.31)])"
   ]
  },
  {
   "cell_type": "markdown",
   "metadata": {},
   "source": [
    "## Data Loaders\n",
    "The dataloader is essentially an iterator which goes through our entire dataset, minibatch by minibatch until all of the dataset samples have been used during training, signaling the end of one epoch. To train neural networks, we typically repeat multiple epochs until convergence of the network parameters.\n",
    "We define two dataloaders below, one for training data and one for validation data.\n",
    "\n",
    "The transformations are applied while fetching the data batch. The transformation function that we defined above will be used while loading the dataset to perform transformation. This is called *`LAZY TRANSFORMATION`*."
   ]
  },
  {
   "cell_type": "code",
   "execution_count": 6,
   "metadata": {},
   "outputs": [],
   "source": [
    "def get_data_loaders(train_data,val_data,transform_fn,batch):\n",
    "    \n",
    "    train_dataloader = gluon.data.DataLoader(train_data.transform_first(transform_fn),\n",
    "                                      batch_size = batch,\n",
    "                                       shuffle=True)\n",
    "    \n",
    "    validation_dataloader = gluon.data.DataLoader(val_data.transform_first(transform_fn),\n",
    "                                     batch_size = batch,\n",
    "                                     shuffle=False)\n",
    "    #raise NotImplementedError()\n",
    "    \n",
    "    return train_dataloader, validation_dataloader"
   ]
  },
  {
   "cell_type": "code",
   "execution_count": 7,
   "metadata": {},
   "outputs": [],
   "source": [
    "train_loader, val_loader = get_data_loaders(train_data, val_data, transform_fn, batch = 128)"
   ]
  },
  {
   "cell_type": "markdown",
   "metadata": {},
   "source": [
    "## Define a Network\n",
    "For multiclass classification, we will use LeNet-5 architecture to define our network. \n",
    "* `LeNet-5 CNN` architecture is made up of 7 layers. The layer composition consists of 3 convolutional layers, 2 subsampling layers and 2 fully connected layers.\n",
    "To learn more about this architecture, please refer to the article below.\n",
    "\n",
    "https://towardsdatascience.com/understanding-and-implementing-lenet-5-cnn-architecture-deep-learning-a2d531ebc342"
   ]
  },
  {
   "cell_type": "code",
   "execution_count": 8,
   "metadata": {},
   "outputs": [],
   "source": [
    "net = gluon.nn.Sequential()\n",
    "net.add(gluon.nn.Conv2D(channels=6, kernel_size=5, activation='relu'), #C1\n",
    "        gluon.nn.MaxPool2D(pool_size=2, strides=2),                    #S2\n",
    "        gluon.nn.Conv2D(channels=16, kernel_size=3, activation='relu'),#C3\n",
    "        gluon.nn.MaxPool2D(pool_size=2, strides=2),                    #S4\n",
    "        gluon.nn.Flatten(),                                            #Flatten\n",
    "        gluon.nn.Dense(120, activation=\"relu\"),                        #C5\n",
    "        gluon.nn.Dense(84, activation=\"relu\"),                         #F6\n",
    "        gluon.nn.Dense(10))                                            #Output Layer\n",
    "net.initialize(init=init.Xavier())"
   ]
  },
  {
   "cell_type": "markdown",
   "metadata": {},
   "source": [
    "## Training Loop\n",
    "In this step, we will train our network on training data. We follow the steps to write the loop as follows.\n",
    "* Create the loss function. This should be a loss function suitable for multi-class classification.\n",
    "* Create the metric accumulator. This should the compute and store the accuracy of the model during training\n",
    "* Create the trainer with the `adam` optimizer and learning rate of `0.002`\n",
    "\n",
    "\n",
    "The function returns the trained network after n epochs and training accurracy of each epoch. "
   ]
  },
  {
   "cell_type": "code",
   "execution_count": 9,
   "metadata": {},
   "outputs": [],
   "source": [
    "def train(network, training_dataloader, batch_size, epochs):\n",
    "    \"\"\"\n",
    "    Should take an initialized network and train that network using data from the data loader.\n",
    "    \n",
    "    :param network: initialized gluon network to be trained\n",
    "    :type network: gluon.Block\n",
    "    \n",
    "    :param training_dataloader: the training DataLoader provides batches for data for every iteration\n",
    "    :type training_dataloader: gluon.data.DataLoader\n",
    "    \n",
    "    :param batch_size: batch size for the DataLoader.\n",
    "    :type batch_size: int\n",
    "    \n",
    "    :param epochs: number of epochs to train the DataLoader\n",
    "    :type epochs: int\n",
    "    \n",
    "    :return: tuple of trained network and the final training accuracy\n",
    "    :rtype: (gluon.Block, float)\n",
    "    \"\"\"\n",
    "    \n",
    "    loss_fn = gluon.loss.SoftmaxCrossEntropyLoss()\n",
    "    \n",
    "    train_acc = metric.Accuracy()\n",
    "    trainer = gluon.Trainer(net.collect_params(), 'adam', {'learning_rate' : 0.002})\n",
    "    \n",
    "    for epoch in range(epochs):\n",
    "        train_loss = 0\n",
    "        \n",
    "        for data,label in training_dataloader:\n",
    "            with autograd.record():\n",
    "                output = net(data)\n",
    "                loss = loss_fn(output,label)\n",
    "                \n",
    "            loss.backward()\n",
    "            \n",
    "            trainer.step(batch_size)\n",
    "            train_loss += loss.mean().asscalar()\n",
    "            \n",
    "            train_acc.update(label,output)\n",
    "        print(\"Epoch {}\".format(epoch))\n",
    "        print(\"Training Accuracy {}\".format(train_acc.get()[1]))\n",
    "        \n",
    "    training_accuracy = train_acc.get()[1]\n",
    "\n",
    "    return network, training_accuracy"
   ]
  },
  {
   "cell_type": "code",
   "execution_count": 10,
   "metadata": {},
   "outputs": [
    {
     "name": "stdout",
     "output_type": "stream",
     "text": [
      "Epoch 0\n",
      "Training Accuracy 0.9431333333333334\n",
      "Epoch 1\n",
      "Training Accuracy 0.9625166666666667\n",
      "Epoch 2\n",
      "Training Accuracy 0.9705944444444444\n",
      "Epoch 3\n",
      "Training Accuracy 0.975275\n",
      "Epoch 4\n",
      "Training Accuracy 0.97854\n"
     ]
    }
   ],
   "source": [
    "network, train_acc = train(net, train_loader, 128, 5)"
   ]
  },
  {
   "cell_type": "markdown",
   "metadata": {},
   "source": [
    "Now that we have trained the network and tested its accuracy on the training set, which is pretty decent, we will also go ahead and test it for validation set."
   ]
  },
  {
   "cell_type": "markdown",
   "metadata": {},
   "source": [
    "## Validation Loop\n",
    "We will take the set of same steps that we did in the training loop. For the validation loop, we only need to predict the label of the data and compute the accuracy. We have defined a validation loop below."
   ]
  },
  {
   "cell_type": "code",
   "execution_count": 11,
   "metadata": {},
   "outputs": [],
   "source": [
    "def validate(network, validation_dataloader):\n",
    "    \"\"\"\n",
    "    Should compute the accuracy of the network on the validation set.\n",
    "    \n",
    "    :param network: initialized gluon network to be trained\n",
    "    :type network: gluon.Block\n",
    "    \n",
    "    :param validation_dataloader: the training DataLoader provides batches for data for every iteration\n",
    "    :type validation_dataloader: gluon.data.DataLoader\n",
    "    \n",
    "    :return: validation accuracy\n",
    "    :rtype: float\n",
    "    \"\"\"\n",
    "    \n",
    "    valid_acc = metric.Accuracy()\n",
    "    for data, label in validation_dataloader:\n",
    "        output = net(data)\n",
    "        valid_acc.update(label,output)\n",
    "        \n",
    "    validation_accuracy = valid_acc.get()[1]\n",
    "\n",
    "    return validation_accuracy"
   ]
  },
  {
   "cell_type": "code",
   "execution_count": 12,
   "metadata": {},
   "outputs": [
    {
     "name": "stdout",
     "output_type": "stream",
     "text": [
      "The validation accuracy is 0.9889\n"
     ]
    }
   ],
   "source": [
    "val_acc = validate(net,val_loader)\n",
    "print(\"The validation accuracy is {}\".format(val_acc))"
   ]
  },
  {
   "cell_type": "markdown",
   "metadata": {},
   "source": [
    "## Finally\n",
    "To conclude, we used a LeNet-5 CNN for image classification of MNIST data. We are able to predict the labels of hand-written digits using this network. We performed data loading, data transformation, network definition and training and calculated training and validation accuracy.\n",
    "\n",
    "This project is based on the course that I completed on Coursera. `AWS Computer Vision: Getting Started with GluonCV`.\n"
   ]
  }
 ],
 "metadata": {
  "kernelspec": {
   "display_name": "Python 3",
   "language": "python",
   "name": "python3"
  },
  "language_info": {
   "codemirror_mode": {
    "name": "ipython",
    "version": 3
   },
   "file_extension": ".py",
   "mimetype": "text/x-python",
   "name": "python",
   "nbconvert_exporter": "python",
   "pygments_lexer": "ipython3",
   "version": "3.6.4"
  }
 },
 "nbformat": 4,
 "nbformat_minor": 2
}
